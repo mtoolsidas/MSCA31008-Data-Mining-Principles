{
 "cells": [
  {
   "cell_type": "code",
   "execution_count": null,
   "metadata": {},
   "outputs": [],
   "source": [
    "from pyhive import hive\n",
    "import pandas as pd\n",
    "import matplotlib.pyplot as plt\n",
    "import datetime\n",
    "import os\n",
    "import time\n",
    "from collections import Counter\n",
    "import numpy as np"
   ]
  },
  {
   "cell_type": "code",
   "execution_count": null,
   "metadata": {},
   "outputs": [],
   "source": [
    "# Read the data in from Hive and save to csv...if already have the csv, read it in\n",
    "\n",
    "if 'time_series_data_reviews.csv' not in os.listdir():\n",
    "    try:\n",
    "        print('Getting data from Hive...')\n",
    "        start = time.time()\n",
    "        conn = hive.Connection(host = 'hadoop.rcc.uchicago.edu', \n",
    "                               port = 10000, \n",
    "                               username = 'mtoolsidas', \n",
    "                               database = 'dmp_yelp_rs')\n",
    "\n",
    "        cursor = conn.cursor()\n",
    "\n",
    "        query = 'select r.business_id,r.`date`,r.stars,b.simplified_category from review r join business_basicdata b on r.business_id = b.business_id'\n",
    "        cursor.execute(query)\n",
    "        res = cursor.fetchall()\n",
    "        end = time.time()\n",
    "        df = pd.DataFrame(res, columns = [i[0] for i in cursor.description])\n",
    "        df.to_csv('time_series_data_reviews.csv', index = False)\n",
    "        print('Finished.')\n",
    "        print('Fetched data in {} seconds.'.format(end - start))\n",
    "    except:\n",
    "        print('ERROR: Connect to the VPN.')\n",
    "        \n",
    "else:\n",
    "    print('Getting data from csv...')\n",
    "    df = pd.read_csv('time_series_data_reviews.csv')\n",
    "    print('Finished')"
   ]
  },
  {
   "cell_type": "code",
   "execution_count": null,
   "metadata": {},
   "outputs": [],
   "source": [
    "# Checking data\n",
    "\n",
    "df.head()"
   ]
  },
  {
   "cell_type": "code",
   "execution_count": null,
   "metadata": {},
   "outputs": [],
   "source": [
    "# Cleaning the column names to remove '_.'\n",
    "\n",
    "df.columns = [c[2:] for c in df.columns]"
   ]
  },
  {
   "cell_type": "code",
   "execution_count": null,
   "metadata": {},
   "outputs": [],
   "source": [
    "# Converting `date` column to datetime and extracting date components\n",
    "\n",
    "df['date'] = pd.to_datetime(df['date'], format = '%Y-%m-%d %H:%M:%S')\n",
    "df['just_date'] = df['date'].dt.date\n",
    "df['year'] = df['date'].dt.year\n",
    "df['month'] = df['date'].dt.month\n",
    "df['day'] = df['date'].dt.day\n",
    "df['hour'] = df['date'].dt.hour\n",
    "df['day_name'] = df['date'].dt.day_name()\n",
    "df['month_year'] = df['date'].dt.to_period('M').astype(str)\n",
    "df['week'] = df['date'].dt.to_period('W').astype(str)"
   ]
  },
  {
   "cell_type": "code",
   "execution_count": null,
   "metadata": {},
   "outputs": [],
   "source": [
    "# Grouping data by category and month/year, getting the count of reviews and average stars for each group  \n",
    "\n",
    "group_by_cat = df.groupby(['simplified_category','month_year']).agg({'business_id':'count', 'stars':'mean'})\n",
    "group_by_cat = group_by_cat.rename(columns = {'business_id':'num_reviews'})\n",
    "group_by_cat.index = group_by_cat.index.set_levels([group_by_cat.index.levels[0], pd.to_datetime(group_by_cat.index.levels[1])])"
   ]
  },
  {
   "cell_type": "code",
   "execution_count": null,
   "metadata": {},
   "outputs": [],
   "source": [
    "from statsmodels.tsa.seasonal import seasonal_decompose\n",
    "\n",
    "dfs = []\n",
    "\n",
    "# Looping through each category (index level 0) and performing decomposition analysis\n",
    "for i in set(group_by_cat.index.get_level_values(0)):\n",
    "    \n",
    "    print('starting category {}...'.format(i))\n",
    "    \n",
    "    # refactoring df to have 1 index instead of multi-index (removing category index)\n",
    "    tmp = group_by_cat.xs(i, level = 0, drop_level = True)\n",
    "    # changing index (month_year) to monthly period\n",
    "    tmp.index = tmp.index.to_period('M')\n",
    "    # filling in any missing months in the data and interpolating the values for review count and average stars\n",
    "    tmp = tmp.reindex(pd.period_range(tmp.index[0],tmp.index[-1],freq='M')).interpolate('time')\n",
    "    # turning index back to datetime\n",
    "    tmp.index = tmp.index.to_timestamp()\n",
    "    # Performing decomposition using additive model (as magnitude of seasonlity does not change over time)\n",
    "    # This is done for both review count and average stars\n",
    "    decompose_num_reviews = seasonal_decompose(tmp.num_reviews, model = 'additive', extrapolate_trend = 'freq')\n",
    "    decompose_avg_stars = seasonal_decompose(tmp.stars, model = 'additive', extrapolate_trend = 'freq')\n",
    "    # Turning result into dataframe and appending to list of dfs\n",
    "    tmp2 = pd.DataFrame(decompose_num_reviews.seasonal)\n",
    "    tmp2 = tmp2.rename(columns = {'seasonal':'seasonal_num_reviews'})\n",
    "    tmp2['simplified_category'] = i\n",
    "    tmp2['trend_num_reviews'] = decompose_num_reviews.trend\n",
    "    tmp2['seasonal_avg_stars'] = decompose_avg_stars.seasonal\n",
    "    tmp2['trend_avg_stars'] = decompose_avg_stars.trend\n",
    "    dfs.append(tmp2)\n",
    "\n",
    "    print('finished with category {}.'.format(i))\n",
    "    print('--- --- --- ---')"
   ]
  },
  {
   "cell_type": "code",
   "execution_count": null,
   "metadata": {},
   "outputs": [],
   "source": [
    "# Concatenating dataframes for all categories into one and checking data\n",
    "\n",
    "final_df = pd.concat(dfs)\n",
    "final_df = pd.concat(dfs).head()"
   ]
  },
  {
   "cell_type": "code",
   "execution_count": null,
   "metadata": {},
   "outputs": [],
   "source": [
    "# Save result\n",
    "\n",
    "final_df.to_csv('time_series_cat_final.csv', index = False)"
   ]
  }
 ],
 "metadata": {
  "kernelspec": {
   "display_name": "Python 3",
   "language": "python",
   "name": "python3"
  },
  "language_info": {
   "codemirror_mode": {
    "name": "ipython",
    "version": 3
   },
   "file_extension": ".py",
   "mimetype": "text/x-python",
   "name": "python",
   "nbconvert_exporter": "python",
   "pygments_lexer": "ipython3",
   "version": "3.8.5"
  }
 },
 "nbformat": 4,
 "nbformat_minor": 4
}
